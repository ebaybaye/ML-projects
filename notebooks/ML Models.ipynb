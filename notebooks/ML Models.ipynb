{
 "cells": [
  {
   "cell_type": "code",
   "execution_count": 8,
   "metadata": {},
   "outputs": [],
   "source": [
    "# Import of relevant packages\n",
    "\n",
    "#pip install jupyter pandas plotly\n",
    "# pip install xgboost\n",
    "\n",
    "import numpy as np\n",
    "import pandas as pd\n",
    "import matplotlib.pyplot as plt\n",
    "import seaborn as sns\n",
    "import plotly.graph_objects as go\n",
    "import pickle\n",
    "\n",
    "\n",
    "from sklearn.pipeline import Pipeline\n",
    "from sklearn.compose import ColumnTransformer\n",
    "from sklearn.preprocessing import OneHotEncoder, StandardScaler\n",
    "from sklearn.impute import SimpleImputer\n",
    "from sklearn.model_selection import train_test_split\n",
    "from sklearn.model_selection import GridSearchCV, RandomizedSearchCV\n",
    "from sklearn.model_selection import cross_val_predict\n",
    "from sklearn.neighbors import KNeighborsClassifier\n",
    "from sklearn.metrics import  confusion_matrix, accuracy_score, precision_recall_curve, recall_score, precision_score, classification_report\n",
    "from sklearn.metrics import mean_absolute_error, mean_squared_error, r2_score, mean_absolute_percentage_error\n",
    "from xgboost import XGBClassifier\n",
    "from sklearn.linear_model import LogisticRegression\n",
    "from sklearn.ensemble import RandomForestClassifier\n",
    "\n",
    "# Set random seed \n",
    "RSEED = 42\n",
    "\n",
    "# make sure all the warnings show at every instance:\n",
    "import warnings\n",
    "warnings.filterwarnings('ignore')\n",
    "\n",
    "# plot style\n",
    "sns.set(rc={'figure.figsize':(11.7,8.27)})\n",
    "sns.set_theme(style=\"whitegrid\")\n",
    "plt.rcParams.update({'figure.facecolor':'white'})\n",
    "\n",
    "\n"
   ]
  },
  {
   "cell_type": "markdown",
   "metadata": {},
   "source": [
    "## Load Test and Train Data"
   ]
  },
  {
   "cell_type": "code",
   "execution_count": 9,
   "metadata": {},
   "outputs": [
    {
     "data": {
      "text/html": [
       "<div>\n",
       "<style scoped>\n",
       "    .dataframe tbody tr th:only-of-type {\n",
       "        vertical-align: middle;\n",
       "    }\n",
       "\n",
       "    .dataframe tbody tr th {\n",
       "        vertical-align: top;\n",
       "    }\n",
       "\n",
       "    .dataframe thead th {\n",
       "        text-align: right;\n",
       "    }\n",
       "</style>\n",
       "<table border=\"1\" class=\"dataframe\">\n",
       "  <thead>\n",
       "    <tr style=\"text-align: right;\">\n",
       "      <th></th>\n",
       "      <th>Column Name</th>\n",
       "      <th>Definition</th>\n",
       "    </tr>\n",
       "  </thead>\n",
       "  <tbody>\n",
       "    <tr>\n",
       "      <th>0</th>\n",
       "      <td>id</td>\n",
       "      <td>Unique identifier for each tourist</td>\n",
       "    </tr>\n",
       "    <tr>\n",
       "      <th>1</th>\n",
       "      <td>country</td>\n",
       "      <td>The country a tourist coming  from.</td>\n",
       "    </tr>\n",
       "    <tr>\n",
       "      <th>2</th>\n",
       "      <td>age_group</td>\n",
       "      <td>The age group of a tourist.</td>\n",
       "    </tr>\n",
       "    <tr>\n",
       "      <th>3</th>\n",
       "      <td>travel_with</td>\n",
       "      <td>The relation of people a tourist travel with t...</td>\n",
       "    </tr>\n",
       "    <tr>\n",
       "      <th>4</th>\n",
       "      <td>total_female</td>\n",
       "      <td>Total number of females</td>\n",
       "    </tr>\n",
       "    <tr>\n",
       "      <th>5</th>\n",
       "      <td>total_male</td>\n",
       "      <td>Total number of males</td>\n",
       "    </tr>\n",
       "    <tr>\n",
       "      <th>6</th>\n",
       "      <td>purpose</td>\n",
       "      <td>The purpose of visiting  Tanzania</td>\n",
       "    </tr>\n",
       "    <tr>\n",
       "      <th>7</th>\n",
       "      <td>main_activity</td>\n",
       "      <td>The main activity of tourism in Tanzania</td>\n",
       "    </tr>\n",
       "    <tr>\n",
       "      <th>8</th>\n",
       "      <td>infor_source</td>\n",
       "      <td>The source of information about tourism in Tan...</td>\n",
       "    </tr>\n",
       "    <tr>\n",
       "      <th>9</th>\n",
       "      <td>tour_arrangment</td>\n",
       "      <td>The arrangment of visiting Tanzania</td>\n",
       "    </tr>\n",
       "    <tr>\n",
       "      <th>10</th>\n",
       "      <td>package_transport_int</td>\n",
       "      <td>If the tour package include international tran...</td>\n",
       "    </tr>\n",
       "    <tr>\n",
       "      <th>11</th>\n",
       "      <td>package_accomodation</td>\n",
       "      <td>If the tour package include accommodation service</td>\n",
       "    </tr>\n",
       "    <tr>\n",
       "      <th>12</th>\n",
       "      <td>package_food</td>\n",
       "      <td>If the tour package include food service</td>\n",
       "    </tr>\n",
       "    <tr>\n",
       "      <th>13</th>\n",
       "      <td>package_transport_tz</td>\n",
       "      <td>If the tour package include transport service ...</td>\n",
       "    </tr>\n",
       "    <tr>\n",
       "      <th>14</th>\n",
       "      <td>package_sightseeing</td>\n",
       "      <td>If the tour package include sightseeing service</td>\n",
       "    </tr>\n",
       "    <tr>\n",
       "      <th>15</th>\n",
       "      <td>package_guided_tour</td>\n",
       "      <td>If the tour package include tour guide</td>\n",
       "    </tr>\n",
       "    <tr>\n",
       "      <th>16</th>\n",
       "      <td>package_insurance</td>\n",
       "      <td>if the tour package include insurance service</td>\n",
       "    </tr>\n",
       "    <tr>\n",
       "      <th>17</th>\n",
       "      <td>night_mainland</td>\n",
       "      <td>Number of nights a tourist spent in Tanzania m...</td>\n",
       "    </tr>\n",
       "    <tr>\n",
       "      <th>18</th>\n",
       "      <td>night_zanzibar</td>\n",
       "      <td>Number of nights a tourist spent in Zanzibar</td>\n",
       "    </tr>\n",
       "    <tr>\n",
       "      <th>19</th>\n",
       "      <td>payment_mode</td>\n",
       "      <td>The mode of payment for tourism service</td>\n",
       "    </tr>\n",
       "    <tr>\n",
       "      <th>20</th>\n",
       "      <td>first_trip_tz</td>\n",
       "      <td>If it was a first  trip to Tanzania</td>\n",
       "    </tr>\n",
       "    <tr>\n",
       "      <th>21</th>\n",
       "      <td>most_impressing</td>\n",
       "      <td>what impressed a toursit in Tanzania</td>\n",
       "    </tr>\n",
       "    <tr>\n",
       "      <th>22</th>\n",
       "      <td>total_cost</td>\n",
       "      <td>The total tourist expenditure  in TZS(currency)</td>\n",
       "    </tr>\n",
       "  </tbody>\n",
       "</table>\n",
       "</div>"
      ],
      "text/plain": [
       "              Column Name                                         Definition\n",
       "0                      id                 Unique identifier for each tourist\n",
       "1                 country                The country a tourist coming  from.\n",
       "2               age_group                        The age group of a tourist.\n",
       "3             travel_with  The relation of people a tourist travel with t...\n",
       "4            total_female                            Total number of females\n",
       "5              total_male                              Total number of males\n",
       "6                 purpose                  The purpose of visiting  Tanzania\n",
       "7           main_activity           The main activity of tourism in Tanzania\n",
       "8            infor_source  The source of information about tourism in Tan...\n",
       "9         tour_arrangment                The arrangment of visiting Tanzania\n",
       "10  package_transport_int  If the tour package include international tran...\n",
       "11   package_accomodation  If the tour package include accommodation service\n",
       "12           package_food           If the tour package include food service\n",
       "13   package_transport_tz  If the tour package include transport service ...\n",
       "14    package_sightseeing    If the tour package include sightseeing service\n",
       "15    package_guided_tour             If the tour package include tour guide\n",
       "16      package_insurance      if the tour package include insurance service\n",
       "17         night_mainland  Number of nights a tourist spent in Tanzania m...\n",
       "18         night_zanzibar       Number of nights a tourist spent in Zanzibar\n",
       "19           payment_mode            The mode of payment for tourism service\n",
       "20          first_trip_tz                If it was a first  trip to Tanzania\n",
       "21        most_impressing               what impressed a toursit in Tanzania\n",
       "22             total_cost    The total tourist expenditure  in TZS(currency)"
      ]
     },
     "execution_count": 9,
     "metadata": {},
     "output_type": "execute_result"
    }
   ],
   "source": [
    "# load Train data\n",
    "Train_data = pd.read_csv('/Users/erdem/neuefische/ML-projects/data/Train.csv')\n",
    "# load Test data\n",
    "Test_data = pd.read_csv('/Users/erdem/neuefische/ML-projects/data/Test.csv')\n",
    "# Variable Definition\n",
    "VariableDefinition = pd.read_csv('/Users/erdem/neuefische/ML-projects/data/VariableDefinitions.csv')\n",
    "VariableDefinition\n"
   ]
  },
  {
   "cell_type": "markdown",
   "metadata": {},
   "source": [
    "# Label Encoder"
   ]
  },
  {
   "cell_type": "code",
   "execution_count": 10,
   "metadata": {},
   "outputs": [],
   "source": [
    "# categorical features encoding\n",
    "from sklearn.preprocessing import LabelEncoder\n",
    "le = LabelEncoder()\n",
    "Train_data['age_group'] = le.fit_transform(Train_data['age_group'])\n",
    "Train_data['package_transport_int'] = le.fit_transform(Train_data['package_transport_int'])\n",
    "Train_data['package_accomodation'] = le.fit_transform(Train_data['package_accomodation'])\n",
    "Train_data['package_food'] = le.fit_transform(Train_data['package_food'])\n",
    "Train_data['package_transport_tz'] = le.fit_transform(Train_data['package_transport_tz'])\n",
    "Train_data['package_sightseeing'] = le.fit_transform(Train_data['package_sightseeing'])\n",
    "Train_data['package_guided_tour'] = le.fit_transform(Train_data['package_guided_tour'])\n",
    "Train_data['package_insurance'] = le.fit_transform(Train_data['package_insurance'])\n",
    "Train_data['first_trip_tz'] = le.fit_transform(Train_data['first_trip_tz'])\n",
    "Train_data['country'] = le.fit_transform(Train_data['country'])\n",
    "columns_to_transform = ['tour_arrangement','travel_with','purpose','main_activity','info_source','most_impressing','payment_mode']\n",
    "data = pd.get_dummies( Train_data,columns = columns_to_transform,drop_first=True)"
   ]
  },
  {
   "cell_type": "markdown",
   "metadata": {},
   "source": [
    "## Rename columns"
   ]
  },
  {
   "cell_type": "code",
   "execution_count": 11,
   "metadata": {},
   "outputs": [],
   "source": [
    "data.columns = [c.lower() for c in data.columns]\n",
    "# make a list column names\n",
    "cols = data.columns.tolist()\n",
    "# replace space with _\n",
    "cols = [col.replace(' ', '_') for col in cols]\n",
    "cols = [col.replace('/', '_') for col in cols]\n",
    "cols = [col.replace(',', '_') for col in cols]\n",
    "# reassign new column names to dataframe\n",
    "data.columns = cols"
   ]
  },
  {
   "cell_type": "markdown",
   "metadata": {},
   "source": [
    "### Binned Total_cost and fitted"
   ]
  },
  {
   "cell_type": "code",
   "execution_count": 12,
   "metadata": {},
   "outputs": [
    {
     "data": {
      "text/plain": [
       "0    2409\n",
       "1    2400\n",
       "Name: total_cost_binned, dtype: int64"
      ]
     },
     "execution_count": 12,
     "metadata": {},
     "output_type": "execute_result"
    }
   ],
   "source": [
    "labels = [0,Train_data['total_cost'].median(), Train_data['total_cost'].max()]         # 2 classes\n",
    "#labels = np.linspace(0, Train_data['total_cost'].max(), num = 6)                    # 5 classes\n",
    "Train_data['total_cost_binned'] = pd.cut(Train_data['total_cost'], bins=labels)\n",
    "Train_data['total_cost_binned'] = LabelEncoder().fit_transform(Train_data['total_cost_binned'])\n",
    "Train_data['total_cost_binned'].value_counts()"
   ]
  },
  {
   "cell_type": "code",
   "execution_count": 13,
   "metadata": {},
   "outputs": [
    {
     "name": "stdout",
     "output_type": "stream",
     "text": [
      "We have 4809 observations in our dataset and 21 features\n",
      "Our target vector has also 4809 values\n"
     ]
    }
   ],
   "source": [
    "# Define predictors and target variable\n",
    "X = Train_data.drop(['total_cost', 'total_cost_binned', 'ID'], axis=1)\n",
    "y = Train_data['total_cost_binned']\n",
    "print(f\"We have {X.shape[0]} observations in our dataset and {X.shape[1]} features\")\n",
    "print(f\"Our target vector has also {y.shape[0]} values\")"
   ]
  },
  {
   "cell_type": "markdown",
   "metadata": {},
   "source": [
    "## Train-Test-Split"
   ]
  },
  {
   "cell_type": "code",
   "execution_count": 14,
   "metadata": {},
   "outputs": [],
   "source": [
    "# Split into train and test set \n",
    "X_train, X_test, y_train, y_test = train_test_split(X, y, stratify = y, test_size=0.2, random_state=RSEED)"
   ]
  },
  {
   "cell_type": "code",
   "execution_count": 15,
   "metadata": {},
   "outputs": [],
   "source": [
    "#pip install -U imbalanced-learn\n",
    "\n",
    "# from imblearn.over_sampling import RandomOverSampler\n",
    "\n",
    "# define oversampling strategy\n",
    "# oversample = RandomOverSampler(sampling_strategy='minority')\n",
    "# fit and apply the transform\n",
    "# X_train_over, y_train_over = oversample.fit_resample(X_train, y_train)"
   ]
  },
  {
   "cell_type": "markdown",
   "metadata": {},
   "source": [
    "## Categorical vs numerical variables"
   ]
  },
  {
   "cell_type": "code",
   "execution_count": 16,
   "metadata": {},
   "outputs": [],
   "source": [
    "# Creating list for categorical predictors/features \n",
    "# (dates are also objects so if you have them in your data you would deal with them first)\n",
    "cat_features = list(X.columns[X.dtypes==object])\n",
    "# Creating list for numerical predictors/features\n",
    "# Since 'Survived' is our target variable we will exclude this feature from this list of numerical predictors \n",
    "num_features = list(X.columns[X.dtypes!=object])\n"
   ]
  },
  {
   "cell_type": "markdown",
   "metadata": {},
   "source": [
    "## Preprocessing Pipeline"
   ]
  },
  {
   "cell_type": "code",
   "execution_count": 17,
   "metadata": {},
   "outputs": [],
   "source": [
    "#from sklearn.pipeline import Pipeline\n",
    "\n",
    "# Pipline for numerical features\n",
    "# Initiating Pipeline and calling one step after another\n",
    "# each step is built as a list of (key, value)\n",
    "# key is the name of the processing step\n",
    "# value is an estimator object (processing step)\n",
    "\n",
    "num_pipeline = Pipeline([\n",
    "    ('imputer_num', SimpleImputer(strategy='mean')),\n",
    "    ('std_scaler', StandardScaler())\n",
    "])\n",
    "\n",
    "num_pipeline_sex = Pipeline([\n",
    "    ('imputer_num_sex', SimpleImputer(strategy='most_frequent')),\n",
    "    ('std_scaler_sex', StandardScaler())\n",
    "])\n",
    "\n",
    "\n",
    "# Pipeline for categorical features \n",
    "cat_pipeline = Pipeline([\n",
    "    ('imputer_cat', SimpleImputer(strategy='constant', fill_value='missing')),\n",
    "    ('1hot', OneHotEncoder(handle_unknown='ignore'))\n",
    "])"
   ]
  },
  {
   "cell_type": "code",
   "execution_count": 18,
   "metadata": {},
   "outputs": [],
   "source": [
    "preprocessor = ColumnTransformer([\n",
    "    ('cat', cat_pipeline, cat_features),\n",
    "    ('num', num_pipeline, num_features),\n",
    "    ('num_sex', num_pipeline_sex, [\"total_female\", 'total_male'])\n",
    "])"
   ]
  },
  {
   "cell_type": "markdown",
   "metadata": {},
   "source": [
    "## Evaluation metric"
   ]
  },
  {
   "cell_type": "code",
   "execution_count": 19,
   "metadata": {},
   "outputs": [],
   "source": [
    "# Calculate metric\n",
    "def calculate_metrics(y_train, y_pred_train, y_test, y_pred_test):\n",
    "    \"\"\"Calculate and print out MAE, RMSE and R2 for train and test data\n",
    "\n",
    "    Args:\n",
    "        y_train (array): true values of y_train\n",
    "        y_pred_train (array): predicted values of model for y_train\n",
    "        y_test (array): true values of y_train\n",
    "        y_pred_test (array): predicted values of model for y_test\n",
    "    \"\"\"\n",
    "\n",
    "    print(\"Metrics on training data\") \n",
    "    mae = np.sqrt(mean_absolute_error(y_train,y_pred_train))\n",
    "    maep = mean_absolute_percentage_error(y_train,y_pred_train)\n",
    "    rmse = np.sqrt(mean_squared_error(y_train,y_pred_train))\n",
    "    r2 = r2_score(y_train,y_pred_train)\n",
    "    print(\"MAE:\", round(mae, 3))\n",
    "    print(\"MAPE:\", round(maep, 3))\n",
    "    print(\"RMSE:\", round(rmse, 3))\n",
    "    print(\"R2:\", round(r2, 3))\n",
    "    print(\"---\"*10)\n",
    "    \n",
    "    # Calculate metric\n",
    "    print(\"Metrics on test data\")  \n",
    "    maep = mean_absolute_percentage_error(y_test,y_pred_test)\n",
    "    mae = np.sqrt(mean_absolute_error(y_test, y_pred_test))\n",
    "    rmse = mean_squared_error(y_test, y_pred_test, squared=False)\n",
    "    # you can get the same result with this line:\n",
    "    # rmse = np.sqrt(mean_squared_error(y_test,y_pred_test))\n",
    "\n",
    "    r2 = r2_score(y_test,y_pred_test)\n",
    "    print(\"MAE:\", round(mae, 3))\n",
    "    print(\"MAPE:\", round(maep, 3))\n",
    "    print(\"RMSE:\", round(rmse, 3))\n",
    "    print(\"---\"*10)"
   ]
  },
  {
   "cell_type": "markdown",
   "metadata": {},
   "source": [
    "## Fit Models for ML Model\n",
    "#### 1) LogisticRegression"
   ]
  },
  {
   "cell_type": "code",
   "execution_count": 20,
   "metadata": {},
   "outputs": [],
   "source": [
    "# Building a full pipeline with our preprocessor and a Logistic Regression\n",
    "pipe_log_reg = Pipeline([\n",
    "    ('preprocessor', preprocessor),\n",
    "    ('log_reg', LogisticRegression())\n",
    "])"
   ]
  },
  {
   "cell_type": "code",
   "execution_count": 21,
   "metadata": {},
   "outputs": [],
   "source": [
    "# Making predictions on the training set using cross validation as well as calculating the probabilities\n",
    "# cross_val_predict expects an estimator (model), X, y and nr of cv-splits (cv)\n",
    "y_train_predicted = cross_val_predict(pipe_log_reg, X_train, y_train, cv=5)"
   ]
  },
  {
   "cell_type": "code",
   "execution_count": 22,
   "metadata": {},
   "outputs": [],
   "source": [
    "y_test_predicted = cross_val_predict(pipe_log_reg, X_test, y_test, cv=5)"
   ]
  },
  {
   "cell_type": "code",
   "execution_count": 23,
   "metadata": {},
   "outputs": [
    {
     "name": "stdout",
     "output_type": "stream",
     "text": [
      "              precision    recall  f1-score   support\n",
      "\n",
      "           0       0.80      0.80      0.80       482\n",
      "           1       0.80      0.80      0.80       480\n",
      "\n",
      "    accuracy                           0.80       962\n",
      "   macro avg       0.80      0.80      0.80       962\n",
      "weighted avg       0.80      0.80      0.80       962\n",
      "\n"
     ]
    }
   ],
   "source": [
    "print(classification_report(y_test, y_test_predicted))"
   ]
  },
  {
   "cell_type": "code",
   "execution_count": 24,
   "metadata": {},
   "outputs": [
    {
     "data": {
      "image/png": "[encoded data removed]",
      "text/plain": [
       "<Figure size 842.4x595.44 with 2 Axes>"
      ]
     },
     "metadata": {},
     "output_type": "display_data"
    }
   ],
   "source": [
    "cm = confusion_matrix(y_test, y_test_predicted)\n",
    "sns.heatmap(cm, cmap=\"YlGnBu_r\", annot=True, fmt=\".0f\");"
   ]
  },
  {
   "cell_type": "markdown",
   "metadata": {},
   "source": [
    "#### 2) XGBoost"
   ]
  },
  {
   "cell_type": "code",
   "execution_count": 25,
   "metadata": {},
   "outputs": [],
   "source": [
    "# Building a full pipeline with our preprocessor and a XGBClassifier\n",
    "pipe_xgb = Pipeline([\n",
    "    ('preprocessor', preprocessor),\n",
    "    ('xgb', XGBClassifier(silent=True, verbosity=0, random_state=RSEED, use_label_encoder=False))\n",
    "])"
   ]
  },
  {
   "cell_type": "code",
   "execution_count": 26,
   "metadata": {},
   "outputs": [],
   "source": [
    "# Making predictions on the training set using cross validation as well as calculating the probabilities\n",
    "# cross_val_predict expects an estimator (model), X, y and nr of cv-splits (cv)\n",
    "y_train_predicted = cross_val_predict(pipe_xgb, X_train, y_train, cv=5)"
   ]
  },
  {
   "cell_type": "code",
   "execution_count": 27,
   "metadata": {},
   "outputs": [],
   "source": [
    "y_test_predicted = cross_val_predict(pipe_xgb, X_test, y_test, cv=5)"
   ]
  },
  {
   "cell_type": "code",
   "execution_count": 28,
   "metadata": {},
   "outputs": [
    {
     "name": "stdout",
     "output_type": "stream",
     "text": [
      "              precision    recall  f1-score   support\n",
      "\n",
      "           0       0.82      0.78      0.80       482\n",
      "           1       0.79      0.83      0.81       480\n",
      "\n",
      "    accuracy                           0.81       962\n",
      "   macro avg       0.81      0.81      0.81       962\n",
      "weighted avg       0.81      0.81      0.81       962\n",
      "\n"
     ]
    }
   ],
   "source": [
    "# Calculating the accuracy for the XGB Classifier \n",
    "print(classification_report(y_test, y_test_predicted))"
   ]
  },
  {
   "cell_type": "code",
   "execution_count": 29,
   "metadata": {},
   "outputs": [
    {
     "data": {
      "text/plain": [
       "GridSearchCV(cv=5,\n",
       "             estimator=Pipeline(steps=[('preprocessor',\n",
       "                                        ColumnTransformer(transformers=[('cat',\n",
       "                                                                         Pipeline(steps=[('imputer_cat',\n",
       "                                                                                          SimpleImputer(fill_value='missing',\n",
       "                                                                                                        strategy='constant')),\n",
       "                                                                                         ('1hot',\n",
       "                                                                                          OneHotEncoder(handle_unknown='ignore'))]),\n",
       "                                                                         ['travel_with',\n",
       "                                                                          'purpose',\n",
       "                                                                          'main_activity',\n",
       "                                                                          'info_source',\n",
       "                                                                          'tour_arrangement',\n",
       "                                                                          'payment_mode',\n",
       "                                                                          'most_impressing']),\n",
       "                                                                        ('nu...\n",
       "                                                      reg_alpha=None,\n",
       "                                                      reg_lambda=None,\n",
       "                                                      scale_pos_weight=None,\n",
       "                                                      silent=True,\n",
       "                                                      subsample=None,\n",
       "                                                      tree_method=None,\n",
       "                                                      use_label_encoder=False,\n",
       "                                                      validate_parameters=None,\n",
       "                                                      verbosity=0))]),\n",
       "             n_jobs=-1,\n",
       "             param_grid={'xgb__colsample_bytree': [0.6, 0.8, 1.0],\n",
       "                         'xgb__gamma': [0.5, 1, 1.5, 2, 5],\n",
       "                         'xgb__max_depth': [3, 4, 5],\n",
       "                         'xgb__min_child_weight': [1, 5, 10],\n",
       "                         'xgb__subsample': [0.6, 0.8, 1.0]},\n",
       "             scoring='recall')"
      ]
     },
     "execution_count": 29,
     "metadata": {},
     "output_type": "execute_result"
    }
   ],
   "source": [
    "# Gridsearch\n",
    "# Defining parameter space for grid-search. Since we want to access the classifier step (called 'xgb') in our pipeline \n",
    "# we have to add 'xgb__' infront of the corresponding hyperparameters. \n",
    "param_xgb = {'xgb__min_child_weight': [1, 5, 10],\n",
    "            'xgb__gamma': [0.5, 1, 1.5, 2, 5],\n",
    "            'xgb__subsample': [0.6, 0.8, 1.0],\n",
    "            'xgb__colsample_bytree': [0.6, 0.8, 1.0],\n",
    "            'xgb__max_depth': [3, 4, 5]\n",
    "            }\n",
    "\n",
    "grid_xgb = GridSearchCV(pipe_xgb, param_grid=param_xgb, cv=5, scoring='recall', \n",
    "                           verbose=0, n_jobs=-1)\n",
    "\n",
    "grid_xgb.fit(X_train, y_train)"
   ]
  },
  {
   "cell_type": "code",
   "execution_count": 30,
   "metadata": {},
   "outputs": [
    {
     "name": "stdout",
     "output_type": "stream",
     "text": [
      "Best score:\n",
      "0.86\n",
      "Best parameters:\n",
      "{'xgb__colsample_bytree': 0.6, 'xgb__gamma': 5, 'xgb__max_depth': 5, 'xgb__min_child_weight': 1, 'xgb__subsample': 1.0}\n"
     ]
    }
   ],
   "source": [
    "# Show best parameters\n",
    "print('Best score:\\n{:.2f}'.format(grid_xgb.best_score_))\n",
    "print(\"Best parameters:\\n{}\".format(grid_xgb.best_params_))\n",
    "# Save best model (including fitted preprocessing steps) as best_model \n",
    "best_model = grid_xgb.best_estimator_"
   ]
  },
  {
   "cell_type": "code",
   "execution_count": 31,
   "metadata": {},
   "outputs": [
    {
     "name": "stdout",
     "output_type": "stream",
     "text": [
      "Accuracy: 0.81\n",
      "Recall: 0.83\n",
      "Precision: 0.80\n"
     ]
    }
   ],
   "source": [
    "y_test_predicted = best_model.predict(X_test)\n",
    "\n",
    "print(\"Accuracy: {:.2f}\".format(accuracy_score(y_test, y_test_predicted)))\n",
    "print(\"Recall: {:.2f}\".format(recall_score(y_test, y_test_predicted)))\n",
    "print(\"Precision: {:.2f}\".format(precision_score(y_test, y_test_predicted)))"
   ]
  },
  {
   "cell_type": "markdown",
   "metadata": {},
   "source": [
    "##### New Treshold"
   ]
  },
  {
   "cell_type": "code",
   "execution_count": 32,
   "metadata": {},
   "outputs": [
    {
     "data": {
      "image/png": "[encoded data removed]",
      "text/plain": [
       "<Figure size 842.4x595.44 with 1 Axes>"
      ]
     },
     "metadata": {},
     "output_type": "display_data"
    }
   ],
   "source": [
    "y_scores = grid_xgb.predict_proba(X_test)\n",
    "\n",
    "\n",
    "precision, recall, thresholds = precision_recall_curve(y_test, y_scores[:,1])\n",
    "\n",
    "precision = precision[:-1]\n",
    "recall = recall[:-1]\n",
    "\n",
    "plt.plot(thresholds,precision, color='red')\n",
    "plt.plot(thresholds,recall, color='green')\n",
    "plt.show()"
   ]
  },
  {
   "cell_type": "code",
   "execution_count": 33,
   "metadata": {},
   "outputs": [],
   "source": [
    "y_pred_new_threshold = (grid_xgb.predict_proba(X_test)[:,1]>=0.4).astype(int)\n"
   ]
  },
  {
   "cell_type": "code",
   "execution_count": 34,
   "metadata": {},
   "outputs": [
    {
     "name": "stdout",
     "output_type": "stream",
     "text": [
      "              precision    recall  f1-score   support\n",
      "\n",
      "           0       0.85      0.75      0.79       482\n",
      "           1       0.77      0.86      0.81       480\n",
      "\n",
      "    accuracy                           0.80       962\n",
      "   macro avg       0.81      0.80      0.80       962\n",
      "weighted avg       0.81      0.80      0.80       962\n",
      "\n"
     ]
    }
   ],
   "source": [
    "print(classification_report(y_test, y_pred_new_threshold))"
   ]
  },
  {
   "cell_type": "code",
   "execution_count": 35,
   "metadata": {},
   "outputs": [
    {
     "data": {
      "image/png": "[encoded data removed]",
      "text/plain": [
       "<Figure size 842.4x595.44 with 2 Axes>"
      ]
     },
     "metadata": {},
     "output_type": "display_data"
    }
   ],
   "source": [
    "cm = confusion_matrix(y_test, y_pred_new_threshold)\n",
    "sns.heatmap(cm, cmap=\"YlGnBu_r\", annot=True, fmt=\".0f\");"
   ]
  },
  {
   "cell_type": "markdown",
   "metadata": {},
   "source": [
    "#### 3) Random Forest Classifier"
   ]
  },
  {
   "cell_type": "code",
   "execution_count": 36,
   "metadata": {},
   "outputs": [],
   "source": [
    "# Building a full pipeline with our preprocessor and a Random Forrest Classifier\n",
    "pipe_rfr = Pipeline([\n",
    "    ('preprocessor', preprocessor),\n",
    "    ('rfr', RandomForestClassifier(n_estimators=100))\n",
    "])"
   ]
  },
  {
   "cell_type": "code",
   "execution_count": 37,
   "metadata": {},
   "outputs": [],
   "source": [
    "# Making predictions on the training set using cross validation as well as calculating the probabilities\n",
    "# cross_val_predict expects an estimator (model), X, y and nr of cv-splits (cv)\n",
    "y_train_predicted = cross_val_predict(pipe_rfr, X_train, y_train, cv=5)"
   ]
  },
  {
   "cell_type": "code",
   "execution_count": 38,
   "metadata": {},
   "outputs": [],
   "source": [
    "y_test_predicted = cross_val_predict(pipe_rfr, X_test, y_test, cv=5)"
   ]
  },
  {
   "cell_type": "code",
   "execution_count": 39,
   "metadata": {},
   "outputs": [
    {
     "name": "stdout",
     "output_type": "stream",
     "text": [
      "Cross validation scores:\n",
      "------------------------------\n",
      "              precision    recall  f1-score   support\n",
      "\n",
      "           0       0.82      0.79      0.81       482\n",
      "           1       0.80      0.83      0.81       480\n",
      "\n",
      "    accuracy                           0.81       962\n",
      "   macro avg       0.81      0.81      0.81       962\n",
      "weighted avg       0.81      0.81      0.81       962\n",
      "\n"
     ]
    }
   ],
   "source": [
    "# Calculating the accuracy for the Random Forrest Regressor\n",
    "print('Cross validation scores:')\n",
    "print(\"---\"*10)\n",
    "print(classification_report(y_test, y_test_predicted))"
   ]
  },
  {
   "cell_type": "markdown",
   "metadata": {},
   "source": [
    "### 4) KNN"
   ]
  },
  {
   "cell_type": "code",
   "execution_count": 40,
   "metadata": {},
   "outputs": [],
   "source": [
    "\n",
    "pipe_knn = Pipeline([\n",
    "    ('preprocessor', preprocessor),\n",
    "    ('ss', StandardScaler(with_mean=False)),\n",
    "    ('knn', KNeighborsClassifier ())\n",
    "])"
   ]
  },
  {
   "cell_type": "code",
   "execution_count": 41,
   "metadata": {},
   "outputs": [],
   "source": [
    "y_train_predicted = cross_val_predict(pipe_knn, X_train, y_train, cv=5)"
   ]
  },
  {
   "cell_type": "code",
   "execution_count": 42,
   "metadata": {},
   "outputs": [],
   "source": [
    "y_test_predicted = cross_val_predict(pipe_knn, X_test, y_test, cv=5)"
   ]
  },
  {
   "cell_type": "code",
   "execution_count": 43,
   "metadata": {},
   "outputs": [
    {
     "name": "stdout",
     "output_type": "stream",
     "text": [
      "              precision    recall  f1-score   support\n",
      "\n",
      "           0       0.75      0.78      0.76       482\n",
      "           1       0.77      0.75      0.76       480\n",
      "\n",
      "    accuracy                           0.76       962\n",
      "   macro avg       0.76      0.76      0.76       962\n",
      "weighted avg       0.76      0.76      0.76       962\n",
      "\n"
     ]
    }
   ],
   "source": [
    "print(classification_report(y_test, y_test_predicted))"
   ]
  },
  {
   "cell_type": "code",
   "execution_count": 44,
   "metadata": {},
   "outputs": [
    {
     "data": {
      "image/png": "[encoded data removed]",
      "text/plain": [
       "<Figure size 842.4x595.44 with 2 Axes>"
      ]
     },
     "metadata": {},
     "output_type": "display_data"
    }
   ],
   "source": [
    "cm = confusion_matrix(y_test, y_test_predicted)\n",
    "sns.heatmap(cm, cmap=\"YlGnBu_r\", annot=True, fmt=\".0f\");"
   ]
  },
  {
   "cell_type": "markdown",
   "metadata": {},
   "source": [
    "#### Grid Search CV"
   ]
  },
  {
   "cell_type": "code",
   "execution_count": 45,
   "metadata": {},
   "outputs": [
    {
     "data": {
      "text/plain": [
       "GridSearchCV(cv=5,\n",
       "             estimator=Pipeline(steps=[('preprocessor',\n",
       "                                        ColumnTransformer(transformers=[('cat',\n",
       "                                                                         Pipeline(steps=[('imputer_cat',\n",
       "                                                                                          SimpleImputer(fill_value='missing',\n",
       "                                                                                                        strategy='constant')),\n",
       "                                                                                         ('1hot',\n",
       "                                                                                          OneHotEncoder(handle_unknown='ignore'))]),\n",
       "                                                                         ['travel_with',\n",
       "                                                                          'purpose',\n",
       "                                                                          'main_activity',\n",
       "                                                                          'info_source',\n",
       "                                                                          'tour_arrangement',\n",
       "                                                                          'payment_mode',\n",
       "                                                                          'most_impressing']),\n",
       "                                                                        ('nu...\n",
       "                                                                        ('num_sex',\n",
       "                                                                         Pipeline(steps=[('imputer_num_sex',\n",
       "                                                                                          SimpleImputer(strategy='most_frequent')),\n",
       "                                                                                         ('std_scaler_sex',\n",
       "                                                                                          StandardScaler())]),\n",
       "                                                                         ['total_female',\n",
       "                                                                          'total_male'])])),\n",
       "                                       ('ss', StandardScaler(with_mean=False)),\n",
       "                                       ('knn', KNeighborsClassifier())]),\n",
       "             n_jobs=4,\n",
       "             param_grid={'knn__algorithm': ['auto', 'ball_tree', 'kd_tree',\n",
       "                                            'brute'],\n",
       "                         'knn__n_neighbors': [2, 3, 5, 10]},\n",
       "             scoring='recall')"
      ]
     },
     "execution_count": 45,
     "metadata": {},
     "output_type": "execute_result"
    }
   ],
   "source": [
    "n_neighbors = [2, 3, 5, 10]\n",
    "algorithm = [\"auto\",  \"ball_tree\", \"kd_tree\", \"brute\"]\n",
    "\n",
    "grid_list = dict(knn__n_neighbors=n_neighbors,\n",
    "                      knn__algorithm=algorithm)\n",
    "\n",
    "\n",
    "\n",
    "grid_search = GridSearchCV(pipe_knn, param_grid = grid_list, n_jobs = 4, cv = 5, scoring='recall') \n",
    "grid_search.fit(X_train, y_train)"
   ]
  },
  {
   "cell_type": "code",
   "execution_count": 46,
   "metadata": {},
   "outputs": [
    {
     "name": "stdout",
     "output_type": "stream",
     "text": [
      "Best score:\n",
      "0.79\n",
      "Best parameters:\n",
      "{'knn__algorithm': 'auto', 'knn__n_neighbors': 5}\n"
     ]
    }
   ],
   "source": [
    "# Show best parameters\n",
    "print('Best score:\\n{:.2f}'.format(grid_search.best_score_))\n",
    "print(\"Best parameters:\\n{}\".format(grid_search.best_params_))"
   ]
  },
  {
   "cell_type": "code",
   "execution_count": 47,
   "metadata": {},
   "outputs": [],
   "source": [
    "best_model = grid_search.best_estimator_\n"
   ]
  },
  {
   "cell_type": "code",
   "execution_count": 48,
   "metadata": {},
   "outputs": [
    {
     "name": "stdout",
     "output_type": "stream",
     "text": [
      "Accuracy: 0.78\n",
      "Recall: 0.77\n",
      "Precision: 0.79\n"
     ]
    }
   ],
   "source": [
    "# Calculating the accuracy, recall and precision for the test set with the optimized model\n",
    "y_test_predicted = best_model.predict(X_test)\n",
    "\n",
    "print(\"Accuracy: {:.2f}\".format(accuracy_score(y_test, y_test_predicted)))\n",
    "print(\"Recall: {:.2f}\".format(recall_score(y_test, y_test_predicted)))\n",
    "print(\"Precision: {:.2f}\".format(precision_score(y_test, y_test_predicted)))"
   ]
  },
  {
   "cell_type": "code",
   "execution_count": 49,
   "metadata": {},
   "outputs": [
    {
     "name": "stdout",
     "output_type": "stream",
     "text": [
      "              precision    recall  f1-score   support\n",
      "\n",
      "           0       0.78      0.80      0.79       482\n",
      "           1       0.79      0.77      0.78       480\n",
      "\n",
      "    accuracy                           0.78       962\n",
      "   macro avg       0.79      0.78      0.78       962\n",
      "weighted avg       0.79      0.78      0.78       962\n",
      "\n"
     ]
    }
   ],
   "source": [
    "print(classification_report(y_test, y_test_predicted))"
   ]
  },
  {
   "cell_type": "code",
   "execution_count": 50,
   "metadata": {},
   "outputs": [
    {
     "data": {
      "image/png": "[encoded data removed]",
      "text/plain": [
       "<Figure size 842.4x595.44 with 2 Axes>"
      ]
     },
     "metadata": {},
     "output_type": "display_data"
    }
   ],
   "source": [
    "cm = confusion_matrix(y_test, y_test_predicted)\n",
    "sns.heatmap(cm, cmap=\"YlGnBu_r\", annot=True, fmt=\".0f\");"
   ]
  },
  {
   "cell_type": "markdown",
   "metadata": {},
   "source": [
    "#### New treshold"
   ]
  },
  {
   "cell_type": "code",
   "execution_count": 51,
   "metadata": {},
   "outputs": [
    {
     "data": {
      "image/png": "[encoded data removed]",
      "text/plain": [
       "<Figure size 842.4x595.44 with 1 Axes>"
      ]
     },
     "metadata": {},
     "output_type": "display_data"
    }
   ],
   "source": [
    "y_scores = grid_search.predict_proba(X_test)\n",
    "\n",
    "\n",
    "precision, recall, thresholds = precision_recall_curve(y_test, y_scores[:,1])\n",
    "\n",
    "precision = precision[:-1]\n",
    "recall = recall[:-1]\n",
    "\n",
    "plt.plot(thresholds,precision, color='red')\n",
    "plt.plot(thresholds,recall, color='green')\n",
    "plt.show()"
   ]
  },
  {
   "cell_type": "code",
   "execution_count": 52,
   "metadata": {},
   "outputs": [],
   "source": [
    "y_pred_new_threshold = (grid_search.predict_proba(X_test)[:,1]>=0.3).astype(int)\n"
   ]
  },
  {
   "cell_type": "code",
   "execution_count": 53,
   "metadata": {},
   "outputs": [
    {
     "name": "stdout",
     "output_type": "stream",
     "text": [
      "              precision    recall  f1-score   support\n",
      "\n",
      "           0       0.82      0.68      0.75       482\n",
      "           1       0.73      0.85      0.78       480\n",
      "\n",
      "    accuracy                           0.77       962\n",
      "   macro avg       0.77      0.77      0.76       962\n",
      "weighted avg       0.77      0.77      0.76       962\n",
      "\n"
     ]
    }
   ],
   "source": [
    "print(classification_report(y_test, y_pred_new_threshold))\n"
   ]
  },
  {
   "cell_type": "code",
   "execution_count": 54,
   "metadata": {},
   "outputs": [
    {
     "data": {
      "image/png": "[encoded data removed]",
      "text/plain": [
       "<Figure size 842.4x595.44 with 2 Axes>"
      ]
     },
     "metadata": {},
     "output_type": "display_data"
    }
   ],
   "source": [
    "cm = confusion_matrix(y_test, y_pred_new_threshold)\n",
    "sns.heatmap(cm, cmap=\"YlGnBu_r\", annot=True, fmt=\".0f\");"
   ]
  },
  {
   "cell_type": "markdown",
   "metadata": {},
   "source": [
    "#### 5) SVC"
   ]
  },
  {
   "cell_type": "code",
   "execution_count": 55,
   "metadata": {},
   "outputs": [],
   "source": [
    "from sklearn.svm import SVC\n",
    "\n",
    "# Building a full pipeline with our preprocessor and a LogisticRegression Classifier\n",
    "pipe_svc = Pipeline([\n",
    "    ('preprocessor', preprocessor),\n",
    "    ('svc', SVC ())\n",
    "])"
   ]
  },
  {
   "cell_type": "code",
   "execution_count": 56,
   "metadata": {},
   "outputs": [],
   "source": [
    "y_train_predicted = cross_val_predict(pipe_svc, X_train, y_train, cv=5)"
   ]
  },
  {
   "cell_type": "code",
   "execution_count": 57,
   "metadata": {},
   "outputs": [],
   "source": [
    "y_test_predicted = cross_val_predict(pipe_svc, X_test, y_test, cv=5)"
   ]
  },
  {
   "cell_type": "code",
   "execution_count": 58,
   "metadata": {},
   "outputs": [
    {
     "name": "stdout",
     "output_type": "stream",
     "text": [
      "              precision    recall  f1-score   support\n",
      "\n",
      "           0       0.83      0.79      0.81       482\n",
      "           1       0.80      0.84      0.82       480\n",
      "\n",
      "    accuracy                           0.81       962\n",
      "   macro avg       0.82      0.82      0.81       962\n",
      "weighted avg       0.82      0.81      0.81       962\n",
      "\n"
     ]
    }
   ],
   "source": [
    "print(classification_report(y_test, y_test_predicted))"
   ]
  },
  {
   "cell_type": "code",
   "execution_count": 59,
   "metadata": {},
   "outputs": [
    {
     "data": {
      "image/png": "[encoded data removed]",
      "text/plain": [
       "<Figure size 842.4x595.44 with 2 Axes>"
      ]
     },
     "metadata": {},
     "output_type": "display_data"
    }
   ],
   "source": [
    "\n",
    "cm = confusion_matrix(y_test, y_test_predicted)\n",
    "sns.heatmap(cm, cmap=\"YlGnBu_r\", annot=True, fmt=\".0f\");"
   ]
  },
  {
   "cell_type": "markdown",
   "metadata": {},
   "source": [
    "##### GRID SEARCH"
   ]
  },
  {
   "cell_type": "code",
   "execution_count": 60,
   "metadata": {},
   "outputs": [
    {
     "data": {
      "text/plain": [
       "GridSearchCV(cv=5,\n",
       "             estimator=Pipeline(steps=[('preprocessor',\n",
       "                                        ColumnTransformer(transformers=[('cat',\n",
       "                                                                         Pipeline(steps=[('imputer_cat',\n",
       "                                                                                          SimpleImputer(fill_value='missing',\n",
       "                                                                                                        strategy='constant')),\n",
       "                                                                                         ('1hot',\n",
       "                                                                                          OneHotEncoder(handle_unknown='ignore'))]),\n",
       "                                                                         ['travel_with',\n",
       "                                                                          'purpose',\n",
       "                                                                          'main_activity',\n",
       "                                                                          'info_source',\n",
       "                                                                          'tour_arrangement',\n",
       "                                                                          'payment_mode',\n",
       "                                                                          'most_impressing']),\n",
       "                                                                        ('nu...\n",
       "                                                                          'night_zanzibar',\n",
       "                                                                          'first_trip_tz']),\n",
       "                                                                        ('num_sex',\n",
       "                                                                         Pipeline(steps=[('imputer_num_sex',\n",
       "                                                                                          SimpleImputer(strategy='most_frequent')),\n",
       "                                                                                         ('std_scaler_sex',\n",
       "                                                                                          StandardScaler())]),\n",
       "                                                                         ['total_female',\n",
       "                                                                          'total_male'])])),\n",
       "                                       ('svc', SVC())]),\n",
       "             n_jobs=-1,\n",
       "             param_grid={'svc__C': array([2, 4]),\n",
       "                         'svc__gamma': array([0.1, 0.3]),\n",
       "                         'svc__kernel': ['linear', 'poly', 'rbf', 'sigmoid',\n",
       "                                         'precomputed']},\n",
       "             scoring='recall')"
      ]
     },
     "execution_count": 60,
     "metadata": {},
     "output_type": "execute_result"
    }
   ],
   "source": [
    "\n",
    "# GRID SEARCH FOR 20 COMBINATIONS OF PARAMETERS\n",
    "grid_list = {\"svc__C\": np.arange(2, 6, 2),\n",
    "             \"svc__gamma\": np.arange(0.1, 0.5, 0.2),\n",
    "             'svc__kernel': ['linear', 'poly', 'rbf', 'sigmoid', 'precomputed']}\n",
    " \n",
    "grid_search = GridSearchCV(pipe_svc, param_grid = grid_list, n_jobs = -1,  verbose=0, cv = 5, scoring='recall') \n",
    "grid_search.fit(X_train, y_train)"
   ]
  },
  {
   "cell_type": "code",
   "execution_count": 61,
   "metadata": {},
   "outputs": [
    {
     "name": "stdout",
     "output_type": "stream",
     "text": [
      "Best score:\n",
      "0.87\n",
      "Best parameters:\n",
      "{'svc__C': 2, 'svc__gamma': 0.30000000000000004, 'svc__kernel': 'rbf'}\n"
     ]
    }
   ],
   "source": [
    "# Show best parameters\n",
    "print('Best score:\\n{:.2f}'.format(grid_search.best_score_))\n",
    "print(\"Best parameters:\\n{}\".format(grid_search.best_params_))\n"
   ]
  },
  {
   "cell_type": "code",
   "execution_count": 62,
   "metadata": {},
   "outputs": [
    {
     "name": "stdout",
     "output_type": "stream",
     "text": [
      "Accuracy: 0.80\n",
      "Recall: 0.85\n",
      "Precision: 0.77\n"
     ]
    }
   ],
   "source": [
    "best_model = grid_search.best_estimator_\n",
    "y_test_predicted = best_model.predict(X_test)\n",
    "\n",
    "print(\"Accuracy: {:.2f}\".format(accuracy_score(y_test, y_test_predicted)))\n",
    "print(\"Recall: {:.2f}\".format(recall_score(y_test, y_test_predicted)))\n",
    "print(\"Precision: {:.2f}\".format(precision_score(y_test, y_test_predicted)))"
   ]
  },
  {
   "cell_type": "code",
   "execution_count": 63,
   "metadata": {},
   "outputs": [
    {
     "name": "stdout",
     "output_type": "stream",
     "text": [
      "              precision    recall  f1-score   support\n",
      "\n",
      "           0       0.83      0.74      0.78       482\n",
      "           1       0.77      0.85      0.81       480\n",
      "\n",
      "    accuracy                           0.80       962\n",
      "   macro avg       0.80      0.80      0.79       962\n",
      "weighted avg       0.80      0.80      0.79       962\n",
      "\n"
     ]
    }
   ],
   "source": [
    "print(classification_report(y_test, y_test_predicted))"
   ]
  },
  {
   "cell_type": "code",
   "execution_count": 64,
   "metadata": {},
   "outputs": [
    {
     "data": {
      "image/png": "[encoded data removed]",
      "text/plain": [
       "<Figure size 842.4x595.44 with 2 Axes>"
      ]
     },
     "metadata": {},
     "output_type": "display_data"
    }
   ],
   "source": [
    "cm = confusion_matrix(y_test, y_test_predicted)\n",
    "sns.heatmap(cm, cmap=\"YlGnBu_r\", annot=True, fmt=\".0f\");"
   ]
  },
  {
   "cell_type": "markdown",
   "metadata": {},
   "source": [
    "##### Randomized Search CV"
   ]
  },
  {
   "cell_type": "code",
   "execution_count": 65,
   "metadata": {},
   "outputs": [
    {
     "data": {
      "text/plain": [
       "RandomizedSearchCV(cv=3,\n",
       "                   estimator=Pipeline(steps=[('preprocessor',\n",
       "                                              ColumnTransformer(transformers=[('cat',\n",
       "                                                                               Pipeline(steps=[('imputer_cat',\n",
       "                                                                                                SimpleImputer(fill_value='missing',\n",
       "                                                                                                              strategy='constant')),\n",
       "                                                                                               ('1hot',\n",
       "                                                                                                OneHotEncoder(handle_unknown='ignore'))]),\n",
       "                                                                               ['travel_with',\n",
       "                                                                                'purpose',\n",
       "                                                                                'main_activity',\n",
       "                                                                                'info_source',\n",
       "                                                                                'tour_arrangement',\n",
       "                                                                                'payment_mode',\n",
       "                                                                                'most_impressing']...\n",
       "                                                                               Pipeline(steps=[('imputer_num_sex',\n",
       "                                                                                                SimpleImputer(strategy='most_frequent')),\n",
       "                                                                                               ('std_scaler_sex',\n",
       "                                                                                                StandardScaler())]),\n",
       "                                                                               ['total_female',\n",
       "                                                                                'total_male'])])),\n",
       "                                             ('svc', SVC())]),\n",
       "                   n_iter=20, n_jobs=-1,\n",
       "                   param_distributions={'svc__C': array([2, 4]),\n",
       "                                        'svc__gamma': array([0.1, 0.3]),\n",
       "                                        'svc__kernel': ['linear', 'poly', 'rbf',\n",
       "                                                        'sigmoid',\n",
       "                                                        'precomputed']},\n",
       "                   random_state=2017, scoring='recall')"
      ]
     },
     "execution_count": 65,
     "metadata": {},
     "output_type": "execute_result"
    }
   ],
   "source": [
    "rand_list = {\"svc__C\": np.arange(2, 6, 2),\n",
    "             \"svc__gamma\": np.arange(0.1, 0.5, 0.2),\n",
    "             'svc__kernel': ['linear', 'poly', 'rbf', 'sigmoid', 'precomputed']}\n",
    "              \n",
    "rand_search = RandomizedSearchCV(pipe_svc, param_distributions = rand_list, n_iter = 20, n_jobs = -1, cv = 3, random_state = 2017, scoring='recall') \n",
    "rand_search.fit(X_train, y_train)"
   ]
  },
  {
   "cell_type": "code",
   "execution_count": 66,
   "metadata": {},
   "outputs": [
    {
     "name": "stdout",
     "output_type": "stream",
     "text": [
      "Best score:\n",
      "0.87\n",
      "Best parameters:\n",
      "{'svc__kernel': 'rbf', 'svc__gamma': 0.30000000000000004, 'svc__C': 2}\n"
     ]
    }
   ],
   "source": [
    "# Show best parameters\n",
    "print('Best score:\\n{:.2f}'.format(rand_search.best_score_))\n",
    "print(\"Best parameters:\\n{}\".format(rand_search.best_params_))"
   ]
  },
  {
   "cell_type": "code",
   "execution_count": 67,
   "metadata": {},
   "outputs": [
    {
     "name": "stdout",
     "output_type": "stream",
     "text": [
      "Accuracy: 0.80\n",
      "Recall: 0.85\n",
      "Precision: 0.77\n"
     ]
    }
   ],
   "source": [
    "best_model_ran = rand_search.best_estimator_\n",
    "# Calculating the accuracy, recall and precision for the test set with the optimized model\n",
    "y_test_predicted_ran = best_model_ran.predict(X_test)\n",
    "print(\"Accuracy: {:.2f}\".format(accuracy_score(y_test, y_test_predicted)))\n",
    "print(\"Recall: {:.2f}\".format(recall_score(y_test, y_test_predicted)))\n",
    "print(\"Precision: {:.2f}\".format(precision_score(y_test, y_test_predicted)))"
   ]
  },
  {
   "cell_type": "code",
   "execution_count": 68,
   "metadata": {},
   "outputs": [
    {
     "name": "stdout",
     "output_type": "stream",
     "text": [
      "              precision    recall  f1-score   support\n",
      "\n",
      "           0       0.83      0.74      0.78       482\n",
      "           1       0.77      0.85      0.81       480\n",
      "\n",
      "    accuracy                           0.80       962\n",
      "   macro avg       0.80      0.80      0.79       962\n",
      "weighted avg       0.80      0.80      0.79       962\n",
      "\n"
     ]
    }
   ],
   "source": [
    "print(classification_report(y_test, y_test_predicted_ran))"
   ]
  },
  {
   "cell_type": "code",
   "execution_count": 69,
   "metadata": {},
   "outputs": [
    {
     "data": {
      "image/png": "[encoded data removed]",
      "text/plain": [
       "<Figure size 842.4x595.44 with 2 Axes>"
      ]
     },
     "metadata": {},
     "output_type": "display_data"
    }
   ],
   "source": [
    "cm = confusion_matrix(y_test, y_test_predicted_ran)\n",
    "sns.heatmap(cm, cmap=\"YlGnBu_r\", annot=True, fmt=\".0f\");"
   ]
  }
 ],
 "metadata": {
  "interpreter": {
   "hash": "8d069e190531bf8b23e65d3708314efa1c43d04a74f9ac8434d3e8a45c3123c5"
  },
  "kernelspec": {
   "display_name": "Python 3.9.4 ('.venv': venv)",
   "language": "python",
   "name": "python3"
  },
  "language_info": {
   "codemirror_mode": {
    "name": "ipython",
    "version": 3
   },
   "file_extension": ".py",
   "mimetype": "text/x-python",
   "name": "python",
   "nbconvert_exporter": "python",
   "pygments_lexer": "ipython3",
   "version": "3.9.4"
  },
  "orig_nbformat": 4
 },
 "nbformat": 4,
 "nbformat_minor": 2
}
